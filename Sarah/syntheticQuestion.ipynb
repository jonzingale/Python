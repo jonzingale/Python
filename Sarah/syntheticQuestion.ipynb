{
 "cells": [
  {
   "cell_type": "markdown",
   "metadata": {},
   "source": [
    "# Synthetic Question\n",
    "\n",
    "#### Chem 131\n",
    "\n",
    "Sarah Johnson\n"
   ]
  },
  {
   "cell_type": "markdown",
   "metadata": {},
   "source": [
    "### Definitions:"
   ]
  },
  {
   "cell_type": "code",
   "execution_count": 34,
   "metadata": {
    "collapsed": true
   },
   "outputs": [],
   "source": [
    "mol = 6.0221409*10**23\n",
    "hydrogen = 1.00794 # g/mol\n",
    "carbon = 12.0107 # g/mol\n",
    "oxygen = 15.999 # g/mol\n",
    "\n",
    "def toMoles(grams, mass):\n",
    "    return grams / mass\n",
    "\n",
    "def toGrams(moles, gramsPerMole):\n",
    "    return moles * gramsPerMole"
   ]
  },
  {
   "cell_type": "markdown",
   "metadata": {},
   "source": [
    "#### Problem 1:\n",
    "$6CO_2 + 6H_2O \\to C_6H_{12}O_6 + 9O_2$"
   ]
  },
  {
   "cell_type": "markdown",
   "metadata": {
    "collapsed": true
   },
   "source": [
    "#### Problem 2:\n",
    "\n",
    "How many grams of each product are produced when 200 grams<br>\n",
    "of $CO_2$ is processed via photosynthesis with unlimited water?<br>"
   ]
  },
  {
   "cell_type": "code",
   "execution_count": 46,
   "metadata": {},
   "outputs": [
    {
     "data": {
      "text/plain": [
       "4.544555962798264"
      ]
     },
     "execution_count": 46,
     "metadata": {},
     "output_type": "execute_result"
    }
   ],
   "source": [
    "CO2 = toMoles(200, carbon + 2 * oxygen)\n",
    "CO2"
   ]
  },
  {
   "cell_type": "markdown",
   "metadata": {
    "collapsed": true
   },
   "source": [
    "Two hundred grams of $CO_2$ is approximately 4.544 moles.<br>\n",
    "The molar ratio of the reactants and products is the same as the<br>\n",
    "coefficients for each of their formulas: $6 : 6 : 1 : 9$."
   ]
  },
  {
   "cell_type": "code",
   "execution_count": 64,
   "metadata": {},
   "outputs": [
    {
     "data": {
      "text/plain": [
       "'136.4529286254763 grams of C6H12O6 and 218.1250525464283 grams of O2'"
      ]
     },
     "execution_count": 64,
     "metadata": {},
     "output_type": "execute_result"
    }
   ],
   "source": [
    "ratios = [6/6,6/6,1/6,9/6]\n",
    "\n",
    "CO2, H20, C6H12O6, O2 = [r * CO2 for r in ratios]\n",
    "\n",
    "gC6H12O6 = toGrams(C6H12O6, 6*carbon + 12*hydrogen + 6*oxygen)\n",
    "gO2 = toGrams(O2, 2*oxygen)\n",
    "\n",
    "str(gC6H12O6) + \" grams of C6H12O6 and \" + str(gO2) + \" grams of O2\""
   ]
  },
  {
   "cell_type": "markdown",
   "metadata": {},
   "source": [
    "#### Problem 3:\n",
    "\n"
   ]
  },
  {
   "cell_type": "code",
   "execution_count": null,
   "metadata": {},
   "outputs": [],
   "source": []
  },
  {
   "cell_type": "code",
   "execution_count": null,
   "metadata": {},
   "outputs": [],
   "source": []
  },
  {
   "cell_type": "code",
   "execution_count": null,
   "metadata": {
    "collapsed": true
   },
   "outputs": [],
   "source": []
  },
  {
   "cell_type": "code",
   "execution_count": null,
   "metadata": {
    "collapsed": true
   },
   "outputs": [],
   "source": []
  },
  {
   "cell_type": "code",
   "execution_count": null,
   "metadata": {
    "collapsed": true
   },
   "outputs": [],
   "source": []
  },
  {
   "cell_type": "code",
   "execution_count": null,
   "metadata": {
    "collapsed": true
   },
   "outputs": [],
   "source": []
  },
  {
   "cell_type": "code",
   "execution_count": null,
   "metadata": {
    "collapsed": true
   },
   "outputs": [],
   "source": []
  }
 ],
 "metadata": {
  "kernelspec": {
   "display_name": "Python 3",
   "language": "python",
   "name": "python3"
  },
  "language_info": {
   "codemirror_mode": {
    "name": "ipython",
    "version": 3
   },
   "file_extension": ".py",
   "mimetype": "text/x-python",
   "name": "python",
   "nbconvert_exporter": "python",
   "pygments_lexer": "ipython3",
   "version": "3.6.1"
  }
 },
 "nbformat": 4,
 "nbformat_minor": 2
}
