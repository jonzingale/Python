{
 "cells": [
  {
   "cell_type": "markdown",
   "id": "1f59ad81",
   "metadata": {},
   "source": [
    "### Derived Sectors\n",
    "\n",
    "This module provides a strategy for partitioning publicly traded companies via investor trading behavior.\n",
    "\n",
    "The strategy is outlined as follows:\n",
    "1. Query adjusted prices for securities in a portfolio over some period.\n",
    "2. Calculate the portfolio correlations\n",
    "3. Calculate correlations svd to prescribe coordinates, where correlations are construed as distances.\n",
    "4. Perform clustering on the coordinates to cluster securities with similar behavior.\n"
   ]
  },
  {
   "cell_type": "code",
   "execution_count": 7,
   "id": "7f38e6f3",
   "metadata": {},
   "outputs": [
    {
     "name": "stdout",
     "output_type": "stream",
     "text": [
      "['AAPL', 'ADI', 'AMAT', 'AMZN', 'ASML', 'BIDU', 'BRK-B', 'CDNS', 'CVX', 'DD', 'EGLE', 'EQT', 'GOOGL', 'IBM', 'INTC', 'IQV', 'ITA', 'IX', 'JNJ', 'LMT', 'LRCX', 'MKL', 'NOC', 'NVDA', 'PARA', 'PHG', 'REPX', 'SE', 'SIEGY', 'SPG', 'SWN', 'TSM', 'UBS', 'VDC', 'VDE', 'VFC', 'WSC']\n"
     ]
    }
   ],
   "source": [
    "from derivedSectors import *\n",
    "\n",
    "# set list of ticker symbols\n",
    "syms = SYMS\n",
    "\n",
    "# set time range for pricing data\n",
    "yrs = 5\n",
    "\n",
    "# set the number of clusters\n",
    "k = 15\n",
    "\n",
    "print(syms)"
   ]
  },
  {
   "cell_type": "markdown",
   "id": "0bc12d9a",
   "metadata": {},
   "source": [
    "From the yfinance api, I query a set of given ticker symbols for a specified period."
   ]
  },
  {
   "cell_type": "code",
   "execution_count": 3,
   "id": "3a0ab560",
   "metadata": {},
   "outputs": [
    {
     "name": "stdout",
     "output_type": "stream",
     "text": [
      "[*********************100%***********************]  37 of 37 completed\n"
     ]
    }
   ],
   "source": [
    "import yfinance as yf\n",
    "\n",
    "# symbols must be sorted\n",
    "syms.sort()\n",
    "\n",
    "# get price timeseries for each ticker symbol\n",
    "prices = get_portfolio(syms, yrs)\n",
    "\n",
    "# calculate correlations\n",
    "correlations = np.corrcoef(prices)\n",
    "\n",
    "# svd correlations to get coordinates\n",
    "graph = dist_to_coords(correlations)\n",
    "\n",
    "# cluster coordinates from graph\n",
    "clusters = cluster_coordinates(syms, graph, k)"
   ]
  },
  {
   "cell_type": "code",
   "execution_count": 5,
   "id": "31115fea",
   "metadata": {},
   "outputs": [
    {
     "data": {
      "text/plain": [
       "{2: ['AAPL', 'ADI', 'CDNS', 'JNJ', 'VDC'],\n",
       " 9: ['AMAT', 'ASML', 'GOOGL', 'IQV', 'LRCX', 'NVDA', 'TSM'],\n",
       " 7: ['AMZN', 'SE'],\n",
       " 1: ['BIDU'],\n",
       " 13: ['BRK-B', 'REPX', 'UBS', 'WSC'],\n",
       " 4: ['CVX', 'EQT', 'SWN', 'VDE'],\n",
       " 5: ['DD', 'SPG'],\n",
       " 6: ['EGLE', 'IBM', 'MKL'],\n",
       " 3: ['INTC', 'PHG'],\n",
       " 10: ['ITA'],\n",
       " 14: ['IX'],\n",
       " 11: ['LMT', 'NOC'],\n",
       " 12: ['PARA'],\n",
       " 0: ['SIEGY'],\n",
       " 8: ['VFC']}"
      ]
     },
     "execution_count": 5,
     "metadata": {},
     "output_type": "execute_result"
    }
   ],
   "source": [
    "clusters"
   ]
  },
  {
   "cell_type": "code",
   "execution_count": null,
   "id": "2b893412",
   "metadata": {},
   "outputs": [],
   "source": []
  }
 ],
 "metadata": {
  "kernelspec": {
   "display_name": "Python 3 (ipykernel)",
   "language": "python",
   "name": "python3"
  },
  "language_info": {
   "codemirror_mode": {
    "name": "ipython",
    "version": 3
   },
   "file_extension": ".py",
   "mimetype": "text/x-python",
   "name": "python",
   "nbconvert_exporter": "python",
   "pygments_lexer": "ipython3",
   "version": "3.9.12"
  }
 },
 "nbformat": 4,
 "nbformat_minor": 5
}
