{
 "cells": [
  {
   "cell_type": "markdown",
   "metadata": {},
   "source": [
    "Steve,<p>\n",
    "\n",
    "Given an arbitrary map of finite sets, $\\ f: A \\to B$, such a map will have<br>\n",
    "a retraction, $r: B \\to A$, only if $f$ is one-to-one. In other words, no two<br>\n",
    "members of $A$ can point to the same member of $B$. Equationally, this property<br>\n",
    "can be summarized as $r \\circ f = 1_A$. We perform $f$ and then perform $r$. When<br>\n",
    "$r$ is a retraction, this performance is the same as never doing anything.<p>\n",
    "\n",
    "In your example: `{1,2,3,4} f—> {a,b}`, which I interpret as:<br>\n",
    "$f \\ (\\{1,2,3,4\\}) \\to \\{a,b\\}$, $f$ taking four things to two, no map $f$<br>\n",
    "can have a retraction. To see why this is true we notice that `size`<br>\n",
    "of the codomain is smaller than the domain. This means that all maps<br>\n",
    "leaving the domain are doomed to collapse information. There are no<br>\n",
    "one-to-one maps.<p>\n",
    "\n",
    "Last night, you mentioned the vertical line test for functions. In the<br>\n",
    "graph-of-a-function interpretation, where $x \\in Dom \\to fx \\in CoDom$,<br>\n",
    "the vertical line test claims that no individual member $x$ of some Domain<br>\n",
    "points to two or more different members $fx$ belonging to some Codomain.<p>\n",
    "\n",
    "The one-to-one condition on our function $\\ f: A \\to B$ is a little different.<br>\n",
    "Being one-to-one is more of a 'horizontal-line-test'. A function is one-to-one<br>\n",
    "exactly when we can pass a horizontal line through the graph and never cross<br>\n",
    "the graph of the function twice. Two examples where such a test fails are:<p>\n",
    "(1) a constant function: $f(x)=5$<br>\n",
    "(2) $f(x) = sin \\ x$<p>\n",
    "\n",
    "In the first case, every member of the Domain points at the same member<br>\n",
    "of the Codomain, namely the number 5. In the second case, any horizontal<br>\n",
    "line no higher than 1 and no lower than -1 is doomed to intersect the graph<br>\n",
    "of our function an infinite number of times. What about $f(x)=3x +1$?<p>\n",
    "\n",
    "The important thing to take away from this exercise, is that one-to-one<br>\n",
    "maps $f$ are special in that only they have left inverses $r$. Further, having<br>\n",
    "a left inverse for a mapping places a lower limit on the size of a given<br>\n",
    "codomain. If the Codomain is too small, there can be no retractions.<br>\n",
    "This said, the number of retractions for a given map $f$ will be determined<br>\n",
    "by the relative size difference between a given Domain for $f$ and its Codomain.<p>\n",
    "\n",
    "As we discussed last night, the total number of maps from $A$ to $B$ is<br>\n",
    "determined by considering that each element of the domain can go to any of<br>\n",
    "the elements of the codomain. Therefore, the first element of $A$ has $|B|$<br>\n",
    "choices for the first arrow (internal), $|B|$ choices for the second, etc:<br>\n",
    "$|B| \\times |B| \\times ... \\times |B|$, $\\ \\ |A|$ times, or more compactly stated as $|B|^{|A|}$.<p>\n",
    "\n",
    "Now since a retraction by definition must return everyone in the Domain back<br>\n",
    "from whence they came, $|A|$ many of the elements in $B$ are determined by $f$.<br>\n",
    "This leaves $|B|-|A|$ elements of $B$ in need of homes in $A$. By the reasoning,<br>\n",
    "in the paragraph above, there ought to be $|A|^{|B|-|A|}$ choices for these.<p>\n",
    "\n",
    "Cheers,<p>\n",
    "Jonathan Zingale\n"
   ]
  }
 ],
 "metadata": {
  "kernelspec": {
   "display_name": "Python 3",
   "language": "python",
   "name": "python3"
  },
  "language_info": {
   "codemirror_mode": {
    "name": "ipython",
    "version": 3
   },
   "file_extension": ".py",
   "mimetype": "text/x-python",
   "name": "python",
   "nbconvert_exporter": "python",
   "pygments_lexer": "ipython3",
   "version": "3.6.1"
  }
 },
 "nbformat": 4,
 "nbformat_minor": 2
}
