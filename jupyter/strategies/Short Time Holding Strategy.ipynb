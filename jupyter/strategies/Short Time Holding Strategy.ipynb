{
 "cells": [
  {
   "cell_type": "markdown",
   "id": "28ef5887",
   "metadata": {},
   "source": [
    "\n",
    "## Short Time Holding Strategy\n",
    "\n",
    "_Simulate where:_\n",
    "1. enter into momentum, potential\n",
    "2. cut loss at kelly portion down (in time or price)\n",
    "3. take gain when x'' ~ 0 for low freq window or when roi/t decreases to margin above VTSAX roi/t (~1.17)\n",
    "4. fpt optimal time\n",
    "5. leg in\n",
    "\n",
    "\n",
    "_undervalue signals:_\n",
    "1. markowitz deviation\n",
    "2. news\n",
    "3. adjacent MNA (cdns, snps -> ansys)\n",
    "4. regression to the mean\n",
    "\n",
    "_overvalue signals:_\n",
    "1. expensive market\n",
    "2. large roi/t\n",
    "3. deviation from historical mean"
   ]
  },
  {
   "cell_type": "code",
   "execution_count": 31,
   "id": "ce69855a",
   "metadata": {},
   "outputs": [
    {
     "name": "stdout",
     "output_type": "stream",
     "text": [
      "1.0543066022768024\n",
      "5.430660227680235\n"
     ]
    }
   ],
   "source": [
    "# Money Market return rate\n",
    "p = 100 # principle\n",
    "r = 5.3/100 # interest rate\n",
    "t = 1 # one year\n",
    "\n",
    "# rate to compare asset rates against\n",
    "roiMM = (1 + r/12)**(12*t)\n",
    "print(roiMM)\n",
    "\n",
    "roiTotal = p * roiMM - p\n",
    "print(roiTotal)"
   ]
  },
  {
   "cell_type": "markdown",
   "id": "126a7563",
   "metadata": {},
   "source": [
    "### simulation ###\n",
    "\n",
    "1. Use actual timeseries of daily price deltas (for chosen window) as sample space.\n",
    "2. calculate distribution of outcomes for a given hold time.\n",
    "3. determine when a given asset is outside of deviation from catching up to roiMM for remaining hold time."
   ]
  },
  {
   "cell_type": "code",
   "execution_count": null,
   "id": "60c91cb8",
   "metadata": {},
   "outputs": [],
   "source": []
  }
 ],
 "metadata": {
  "kernelspec": {
   "display_name": "Python 3 (ipykernel)",
   "language": "python",
   "name": "python3"
  },
  "language_info": {
   "codemirror_mode": {
    "name": "ipython",
    "version": 3
   },
   "file_extension": ".py",
   "mimetype": "text/x-python",
   "name": "python",
   "nbconvert_exporter": "python",
   "pygments_lexer": "ipython3",
   "version": "3.9.12"
  }
 },
 "nbformat": 4,
 "nbformat_minor": 5
}
