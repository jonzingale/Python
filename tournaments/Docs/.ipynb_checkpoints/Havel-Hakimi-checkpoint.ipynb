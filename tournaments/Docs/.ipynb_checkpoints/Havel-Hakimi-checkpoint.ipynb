{
 "cells": [
  {
   "cell_type": "markdown",
   "metadata": {},
   "source": [
    "# Havel-Hakimi for generating tournament pairings\n",
    "\n",
    "From Wikipedia:\n",
    "\n",
    "The Havel–Hakimi algorithm is an algorithm in graph theory solving the graph realization problem. That is, it answers the following question: Given a finite list of nonnegative integers, is there a simple graph such that its degree sequence is exactly this list. Here, the \"degree sequence\" is a list of numbers that for each vertex of the graph states how many neighbors it has. For a positive answer the list of integers is called graphic. The algorithm constructs a special solution if one exists or proves that one cannot find a positive answer. This construction is based on a recursive algorithm. The algorithm was published by Havel (1955), and later by Hakimi (1962).\n"
   ]
  },
  {
   "cell_type": "markdown",
   "metadata": {},
   "source": [
    "\n",
    " TODO:\n",
    " * Springrank.\n",
    "   - write CSV importer\n",
    "   - csv to springRank functionality.\n",
    " * Scipy or numpy stats functionality.\n",
    "   - Matrix: spectra, eigenvalues, etc ..\n",
    "   - Stats: ChiSqr . . "
   ]
  },
  {
   "cell_type": "code",
   "execution_count": 2,
   "metadata": {},
   "outputs": [
    {
     "name": "stdout",
     "output_type": "stream",
     "text": [
      "False\n",
      "True\n"
     ]
    }
   ],
   "source": [
    "def havelhakimi(xs):\n",
    "  if len(xs) == 1:\n",
    "    return (0 == xs[0])\n",
    "  else:\n",
    "    (head, tail) = xs[0], xs[1:]\n",
    "    mlist = list(map(lambda x: x-1, tail[:head]))\n",
    "    mlist += tail[head:]\n",
    "    return havelhakimi(sorted(mlist))\n",
    "\n",
    "print(havelhakimi([2,3,4,3,2])) # no Erdos graphs\n",
    "print(havelhakimi([2,1,1])) # yes Erdos graphs"
   ]
  },
  {
   "cell_type": "code",
   "execution_count": null,
   "metadata": {
    "collapsed": true
   },
   "outputs": [],
   "source": []
  },
  {
   "cell_type": "code",
   "execution_count": null,
   "metadata": {
    "collapsed": true
   },
   "outputs": [],
   "source": []
  }
 ],
 "metadata": {
  "kernelspec": {
   "display_name": "Python 3",
   "language": "python",
   "name": "python3"
  },
  "language_info": {
   "codemirror_mode": {
    "name": "ipython",
    "version": 3
   },
   "file_extension": ".py",
   "mimetype": "text/x-python",
   "name": "python",
   "nbconvert_exporter": "python",
   "pygments_lexer": "ipython3",
   "version": "3.6.1"
  }
 },
 "nbformat": 4,
 "nbformat_minor": 2
}
